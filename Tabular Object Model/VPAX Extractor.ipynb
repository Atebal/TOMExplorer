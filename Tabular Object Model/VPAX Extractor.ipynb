{
 "cells": [
  {
   "cell_type": "code",
   "execution_count": 1,
   "metadata": {},
   "outputs": [],
   "source": [
    "\n",
    "\n"
   ]
  },
  {
   "cell_type": "code",
   "execution_count": null,
   "metadata": {},
   "outputs": [],
   "source": []
  },
  {
   "cell_type": "code",
   "execution_count": 2,
   "metadata": {},
   "outputs": [
    {
     "name": "stdout",
     "output_type": "stream",
     "text": [
      "Defaulting to user installation because normal site-packages is not writeable\n",
      "Collecting pandas-schema\n",
      "  Downloading pandas_schema-0.3.6-py3-none-any.whl (21 kB)\n",
      "Requirement already satisfied: pandas>=0.19 in c:\\users\\atebal.k.singh\\appdata\\roaming\\python\\python310\\site-packages (from pandas-schema) (2.2.2)\n",
      "Requirement already satisfied: numpy in c:\\users\\atebal.k.singh\\appdata\\roaming\\python\\python310\\site-packages (from pandas-schema) (2.0.1)\n",
      "Requirement already satisfied: packaging in c:\\users\\atebal.k.singh\\appdata\\roaming\\python\\python310\\site-packages (from pandas-schema) (24.1)\n",
      "Requirement already satisfied: pytz>=2020.1 in c:\\users\\atebal.k.singh\\appdata\\roaming\\python\\python310\\site-packages (from pandas>=0.19->pandas-schema) (2024.1)\n",
      "Requirement already satisfied: tzdata>=2022.7 in c:\\users\\atebal.k.singh\\appdata\\roaming\\python\\python310\\site-packages (from pandas>=0.19->pandas-schema) (2024.1)\n",
      "Requirement already satisfied: python-dateutil>=2.8.2 in c:\\users\\atebal.k.singh\\appdata\\roaming\\python\\python310\\site-packages (from pandas>=0.19->pandas-schema) (2.9.0.post0)\n",
      "Requirement already satisfied: six>=1.5 in c:\\users\\atebal.k.singh\\appdata\\roaming\\python\\python310\\site-packages (from python-dateutil>=2.8.2->pandas>=0.19->pandas-schema) (1.16.0)\n",
      "Installing collected packages: pandas-schema\n",
      "Successfully installed pandas-schema-0.3.6\n",
      "Note: you may need to restart the kernel to use updated packages.\n"
     ]
    },
    {
     "name": "stderr",
     "output_type": "stream",
     "text": [
      "\n",
      "[notice] A new release of pip available: 22.3.1 -> 24.2\n",
      "[notice] To update, run: python.exe -m pip install --upgrade pip\n"
     ]
    }
   ],
   "source": [
    "%pip install pandas-schema"
   ]
  },
  {
   "cell_type": "code",
   "execution_count": 3,
   "metadata": {},
   "outputs": [],
   "source": [
    "import numpy as np\n",
    "import pandas as pd"
   ]
  },
  {
   "cell_type": "code",
   "execution_count": null,
   "metadata": {},
   "outputs": [],
   "source": []
  }
 ],
 "metadata": {
  "kernelspec": {
   "display_name": "Python 3",
   "language": "python",
   "name": "python3"
  },
  "language_info": {
   "codemirror_mode": {
    "name": "ipython",
    "version": 3
   },
   "file_extension": ".py",
   "mimetype": "text/x-python",
   "name": "python",
   "nbconvert_exporter": "python",
   "pygments_lexer": "ipython3",
   "version": "3.10.10"
  }
 },
 "nbformat": 4,
 "nbformat_minor": 2
}
