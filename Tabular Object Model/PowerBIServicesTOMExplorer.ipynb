{
 "cells": [
  {
   "cell_type": "code",
   "execution_count": 4,
   "metadata": {},
   "outputs": [],
   "source": [
    "\n",
    "#connecting Power BI services\n",
    "import pytabular\n",
    "import Microsoft.AnalysisServices.Tabular as Tabular\n",
    "\n",
    "pytabular.logger.disabled = True\n",
    "workspace = \"powerbi://api.powerbi.com/v1.0/myorg/MyDp600\" \n",
    "#username = 'Your username'\n",
    "#password = 'your password'\n",
    "\n",
    "#conn_string = f\"DataSource={workspace};User ID={username};Password={password};\"\n",
    "CONNECTION_STR = f\"DataSource={workspace};User ID={username};Password={password}\"\n",
    "\n",
    "server=Tabular.Server()\n",
    "\n",
    "server.Connect(CONNECTION_STR)\n",
    "model = server.Databases\n",
    "db=model[0]\n",
    "#for db in model:\n",
    "   # print(db)\n"
   ]
  },
  {
   "cell_type": "code",
   "execution_count": 11,
   "metadata": {},
   "outputs": [],
   "source": [
    "import pytabular\n",
    "\n",
    "CONNECTION_STR=fr'localhost:57840'\n",
    "\n",
    "server=Tabular.Server()\n",
    "server.Connect(CONNECTION_STR)\n",
    "mdl=Tabular.Model()\n",
    "database = server.Databases[0]\n",
    "model=database.Model\n"
   ]
  },
  {
   "cell_type": "code",
   "execution_count": 27,
   "metadata": {},
   "outputs": [
    {
     "data": {
      "text/html": [
       "<pre style=\"white-space:pre;overflow-x:auto;line-height:normal;font-family:Menlo,'DejaVu Sans Mono',consolas,'Courier New',monospace\"></pre>\n"
      ],
      "text/plain": []
     },
     "metadata": {},
     "output_type": "display_data"
    },
    {
     "data": {
      "text/plain": [
       "\u001b[1m<\u001b[0m\u001b[1;95mSystem.Reflection.RuntimeAssembly\u001b[0m\u001b[39m object at \u001b[0m\u001b[1;36m0x00000192E36AC100\u001b[0m\u001b[1m>\u001b[0m"
      ]
     },
     "execution_count": 27,
     "metadata": {},
     "output_type": "execute_result"
    }
   ],
   "source": [
    "import clr\n",
    "folder=r\"C:\\Program Files\\PackageManagement\\NuGet\\Packages\\Dax.Vpax.1.6.0\\lib\\net6.0\"\n",
    "#folder2=r\"C:\\Program Files\\PackageManagement\\NuGet\\Packages\\Dax.Metadata.1.6.0\\lib\\net6.0\"\n",
    "#clr.AddReference(folder2+r\"\\Dax.Metadata.DLL\")\n",
    "clr.AddReference(folder+r\"\\Dax.Vpax.DLL\")\n"
   ]
  },
  {
   "cell_type": "code",
   "execution_count": 74,
   "metadata": {},
   "outputs": [
    {
     "ename": "ModuleNotFoundError",
     "evalue": "No module named 'Dax.Vpax.VpaxTools'",
     "output_type": "error",
     "traceback": [
      "\u001b[1;31m---------------------------------------------------------------------------\u001b[0m",
      "\u001b[1;31mModuleNotFoundError\u001b[0m                       Traceback (most recent call last)",
      "Cell \u001b[1;32mIn[74], line 1\u001b[0m\n\u001b[1;32m----> 1\u001b[0m \u001b[38;5;28;01mimport\u001b[39;00m \u001b[38;5;21;01mDax\u001b[39;00m\u001b[38;5;21;01m.\u001b[39;00m\u001b[38;5;21;01mVpax\u001b[39;00m\u001b[38;5;21;01m.\u001b[39;00m\u001b[38;5;21;01mVpaxTools\u001b[39;00m     \u001b[38;5;28;01mas\u001b[39;00m \u001b[38;5;21;01mex\u001b[39;00m\n\u001b[0;32m      2\u001b[0m \u001b[38;5;66;03m#ex.DAXMODEL\u001b[39;00m\n\u001b[0;32m      3\u001b[0m \u001b[38;5;66;03m#ex.ExportVpax(\"./dlls\",model,model,database)\u001b[39;00m\n\u001b[0;32m      4\u001b[0m \u001b[38;5;66;03m#abc.ExportVpax(\"./dlls\",model,model,database)\u001b[39;00m\n\u001b[0;32m      5\u001b[0m \u001b[38;5;66;03m#ex.ExportVpax(\"./dlls/\",model,model,database)\u001b[39;00m\n\u001b[0;32m      6\u001b[0m \u001b[38;5;28mprint\u001b[39m(\u001b[38;5;28mtype\u001b[39m(ex))\n",
      "\u001b[1;31mModuleNotFoundError\u001b[0m: No module named 'Dax.Vpax.VpaxTools'"
     ]
    }
   ],
   "source": [
    "import Dax.Vpax.VpaxTools     as ex\n",
    "#ex.DAXMODEL\n",
    "#ex.ExportVpax(\"./dlls\",model,model,database)\n",
    "#abc.ExportVpax(\"./dlls\",model,model,database)\n",
    "#ex.ExportVpax(\"./dlls/\",model,model,database)\n",
    "print(type(ex))\n",
    "#ex.ExportVpax(\"./dlls\",model,model,database)"
   ]
  },
  {
   "cell_type": "markdown",
   "metadata": {},
   "source": []
  }
 ],
 "metadata": {
  "kernelspec": {
   "display_name": "Python 3",
   "language": "python",
   "name": "python3"
  },
  "kernelspec": {
   "display_name": "Python 3",
   "language": "python",
   "name": "python3"
  },
  "language_info": {
   "codemirror_mode": {
    "name": "ipython",
    "version": 3
   },
   "file_extension": ".py",
   "mimetype": "text/x-python",
   "name": "python",
   "nbconvert_exporter": "python",
   "pygments_lexer": "ipython3",
   "version": "3.10.0"
  }
 },
 "nbformat": 4,
 "nbformat_minor": 2
}
