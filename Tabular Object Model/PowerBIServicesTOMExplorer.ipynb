{
 "cells": [
  {
   "cell_type": "code",
   "execution_count": 4,
   "metadata": {},
   "outputs": [],
   "source": [
    "\n",
    "#connecting Power BI services\n",
    "import pytabular\n",
    "import Microsoft.AnalysisServices.Tabular as Tabular\n",
    "\n",
    "pytabular.logger.disabled = True\n",
    "workspace = \"powerbi://api.powerbi.com/v1.0/myorg/MyDp600\" \n",
    "#username = 'Your username'\n",
    "#password = 'your password'\n",
    "\n",
    "#conn_string = f\"DataSource={workspace};User ID={username};Password={password};\"\n",
    "CONNECTION_STR = f\"DataSource={workspace};User ID={username};Password={password}\"\n",
    "\n",
    "server=Tabular.Server()\n",
    "server.Connect(CONNECTION_STR)\n",
    "model = server.Databases\n",
    "db=model[0]\n",
    "#for db in model:\n",
    "   # print(db)\n"
   ]
  },
  {
   "cell_type": "code",
   "execution_count": null,
   "metadata": {},
   "outputs": [],
   "source": []
  },
  {
   "cell_type": "code",
   "execution_count": null,
   "metadata": {},
   "outputs": [],
   "source": []
  }
 ],
 "metadata": {
  "kernelspec": {
   "display_name": "Python 3",
   "language": "python",
   "name": "python3"
  },
  "language_info": {
   "codemirror_mode": {
    "name": "ipython",
    "version": 3
   },
   "file_extension": ".py",
   "mimetype": "text/x-python",
   "name": "python",
   "nbconvert_exporter": "python",
   "pygments_lexer": "ipython3",
   "version": "3.10.10"
  }
 },
 "nbformat": 4,
 "nbformat_minor": 2
}
