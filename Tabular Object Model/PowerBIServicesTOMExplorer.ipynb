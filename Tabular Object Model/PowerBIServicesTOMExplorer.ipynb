{
 "cells": [
  {
   "cell_type": "code",
   "execution_count": null,
   "metadata": {},
   "outputs": [],
   "source": [
    "\n",
    "#connecting Power BI services\n",
    "\n",
    "import Microsoft.AnalysisServices.Tabular as Tabular\n",
    "\n",
    "pytabular.logger.disabled = True\n",
    "workspace = \"powerbi://api.powerbi.com/v1.0/myorg/MyDp600\" \n",
    "username = 'Your username'\n",
    "password = 'your password'\n",
    "#conn_string = f\"DataSource={workspace};User ID={username};Password={password};\"\n",
    "CONNECTION_STR = f\"DataSource={workspace};User ID={username};Password={password}\"\n",
    "\n",
    "server=Tabular.Server()\n",
    "server.Connect(CONNECTION_STR)\n",
    "model = server.Databases\n",
    "for db in model:\n",
    "    print(db)\n"
   ]
  }
 ],
 "metadata": {
  "language_info": {
   "name": "python"
  }
 },
 "nbformat": 4,
 "nbformat_minor": 2
}
