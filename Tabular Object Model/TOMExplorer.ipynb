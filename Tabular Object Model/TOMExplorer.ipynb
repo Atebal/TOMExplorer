{
 "cells": [
  {
   "cell_type": "code",
   "execution_count": null,
   "metadata": {},
   "outputs": [],
   "source": [
    " \n",
    "%pip install python-tabular\n",
    "\n"
   ]
  },
  {
   "cell_type": "code",
   "execution_count": null,
   "metadata": {},
   "outputs": [],
   "source": [
    "#connectting Power BI Desktop\n",
    "\n",
    "import pytabular\n",
    "pytabular.logger.disabled = True\n",
    "server=fr'localhost:52926'\n",
    "CONNECTION_STR='datasource='+server\n",
    "\n",
    "model = pytabular.Tabular(CONNECTION_STR) \n",
    "for tbl in model.Tables :\n",
    "    print(tbl.Name )\n",
    "    #print(tbl.Cardinality)\n"
   ]
  },
  {
   "cell_type": "code",
   "execution_count": null,
   "metadata": {},
   "outputs": [],
   "source": [
    "#relationshps\n",
    "for tbl in model.Relationships:\n",
    "    print(\"From Table \"+tbl.FromTable.Name)\n",
    "    print(\"To Table \"+tbl.ToTable.Name)\n",
    "    print(\"From Cardinality \"+str(tbl.FromCardinality))\n",
    "    print(\"To Cardinality \"+str(tbl.ToCardinality))\n",
    "    #print(tbl.Cardinality)"
   ]
  },
  {
   "cell_type": "code",
   "execution_count": null,
   "metadata": {},
   "outputs": [],
   "source": [
    "#table source\n",
    "for tbl in model.Tables:\n",
    "    #print(tbl.Partitions)\n",
    "    for p in tbl.Partitions:\n",
    "        print(\"Table Name \"+p.Name )\n",
    "        print(\"Query Mode\"+p.Mode )\n",
    "        print(\"M Expression \"+p.Source.Expression )"
   ]
  },
  {
   "cell_type": "code",
   "execution_count": 27,
   "metadata": {},
   "outputs": [],
   "source": [
    "#roles\n",
    "for tbl in model.Roles:\n",
    "    print(tbl)"
   ]
  },
  {
   "cell_type": "code",
   "execution_count": null,
   "metadata": {},
   "outputs": [],
   "source": [
    "#column\n",
    "for tbl in model.Tables:\n",
    "    #print(tbl.Partitions)\n",
    "    print(\"Table Name \"+tbl.Name )\n",
    "    print(\"columns\")\n",
    "    for p in tbl.Columns:\n",
    "        print(p.Name )"
   ]
  },
  {
   "cell_type": "code",
   "execution_count": null,
   "metadata": {},
   "outputs": [],
   "source": [
    "#measures"
   ]
  },
  {
   "cell_type": "code",
   "execution_count": null,
   "metadata": {},
   "outputs": [],
   "source": [
    "#parameters"
   ]
  },
  {
   "cell_type": "code",
   "execution_count": null,
   "metadata": {},
   "outputs": [],
   "source": [
    "#partitions\n",
    "for tbl in model.Tables:\n",
    "    #print(tbl.Partitions)\n",
    "    for p in tbl.Partitions:\n",
    "        print(p.Name )\n",
    "        \n",
    "       \n",
    "        "
   ]
  }
 ],
 "metadata": {
  "kernelspec": {
   "display_name": "Python 3",
   "language": "python",
   "name": "python3"
  },
  "language_info": {
   "codemirror_mode": {
    "name": "ipython",
    "version": 3
   },
   "file_extension": ".py",
   "mimetype": "text/x-python",
   "name": "python",
   "nbconvert_exporter": "python",
   "pygments_lexer": "ipython3",
   "version": "3.10.0"
  }
 },
 "nbformat": 4,
 "nbformat_minor": 2
}
