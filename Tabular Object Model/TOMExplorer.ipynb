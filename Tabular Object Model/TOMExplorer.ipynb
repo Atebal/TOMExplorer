{
 "cells": [
  {
   "cell_type": "code",
   "execution_count": null,
   "metadata": {},
   "outputs": [],
   "source": [
    " \n",
    "%pip install python-tabular\n",
    "\n"
   ]
  },
  {
   "cell_type": "code",
   "execution_count": null,
   "metadata": {},
   "outputs": [],
   "source": [
    "#connectting Power BI Desktop\n",
    "\n",
    "import pytabular\n",
    "\n",
    "import pandas as pd\n",
    "pytabular.logger.disabled = True\n",
    "server=fr'localhost:63029'\n",
    "CONNECTION_STR='datasource='+server\n",
    "model = pytabular.Tabular(CONNECTION_STR) \n",
    "\n",
    "\n"
   ]
  },
  {
   "cell_type": "code",
   "execution_count": 2,
   "metadata": {},
   "outputs": [
    {
     "name": "stdout",
     "output_type": "stream",
     "text": [
      "TableNames    68\n",
      "dtype: int64\n"
     ]
    }
   ],
   "source": [
    "#TableNames\n",
    "TableNames=[]\n",
    "columnsnames=[\"TableNames\"]\n",
    "ind=[0]\n",
    "for tbl in model.Tables :\n",
    "    TableNames.append(tbl.Name)\n",
    "    #print(tbl.Name )\n",
    "    #print(tbl.Cardinality)\n",
    "pd=pd.DataFrame(TableNames,columns=columnsnames)\n",
    "print(pd.count())"
   ]
  },
  {
   "cell_type": "code",
   "execution_count": 11,
   "metadata": {},
   "outputs": [
    {
     "ename": "AttributeError",
     "evalue": "'Model' object has no attribute 'DataSource'",
     "output_type": "error",
     "traceback": [
      "\u001b[1;31m---------------------------------------------------------------------------\u001b[0m",
      "\u001b[1;31mAttributeError\u001b[0m                            Traceback (most recent call last)",
      "Cell \u001b[1;32mIn[11], line 4\u001b[0m\n\u001b[0;32m      1\u001b[0m \u001b[38;5;66;03m#TableNames\u001b[39;00m\n\u001b[0;32m      2\u001b[0m \n\u001b[0;32m      3\u001b[0m \u001b[38;5;66;03m#print(model.Tables['CustomerOrders_View'].Columns['CO Line Rel Status Desc'].Type)\u001b[39;00m\n\u001b[1;32m----> 4\u001b[0m \u001b[38;5;28mprint\u001b[39m(\u001b[43mmodel\u001b[49m\u001b[38;5;241;43m.\u001b[39;49m\u001b[43mDataSource\u001b[49m )\n",
      "File \u001b[1;32m~\\AppData\\Roaming\\Python\\Python310\\site-packages\\pytabular\\object.py:56\u001b[0m, in \u001b[0;36mPyObject.__getattr__\u001b[1;34m(self, attr)\u001b[0m\n\u001b[0;32m     54\u001b[0m \u001b[38;5;28;01mdef\u001b[39;00m \u001b[38;5;21m__getattr__\u001b[39m(\u001b[38;5;28mself\u001b[39m, attr):\n\u001b[0;32m     55\u001b[0m \u001b[38;5;250m    \u001b[39m\u001b[38;5;124;03m\"\"\"Searches in `self._object`.\"\"\"\u001b[39;00m\n\u001b[1;32m---> 56\u001b[0m     \u001b[38;5;28;01mreturn\u001b[39;00m \u001b[38;5;28;43mgetattr\u001b[39;49m\u001b[43m(\u001b[49m\u001b[38;5;28;43mself\u001b[39;49m\u001b[38;5;241;43m.\u001b[39;49m\u001b[43m_object\u001b[49m\u001b[43m,\u001b[49m\u001b[43m \u001b[49m\u001b[43mattr\u001b[49m\u001b[43m)\u001b[49m\n",
      "\u001b[1;31mAttributeError\u001b[0m: 'Model' object has no attribute 'DataSource'"
     ]
    }
   ],
   "source": [
    "\n",
    "#TableNames\n",
    "\n",
    "#print(model.Tables['CustomerOrders_View'].Columns['CO Line Rel Status Desc'].Type)\n",
    "print(model.DataSource )\n"
   ]
  },
  {
   "cell_type": "code",
   "execution_count": 3,
   "metadata": {},
   "outputs": [],
   "source": [
    "#relationshps\n",
    "import pandas as pd\n",
    "column_names=[\"From Table \",\"To Table\",\"From Cardinality\",\"To Cardinality\"]\n",
    "relationship=[]\n",
    "for tbl in model.Relationships:\n",
    "    relation=[]\n",
    "    #print(\"From Table \"+tbl.FromTable.Name)\n",
    "    #print(\"To Table \"+tbl.ToTable.Name)\n",
    "    #print(\"From Cardinality \"+str(tbl.FromCardinality))\n",
    "    #print(\"To Cardinality \"+str(tbl.ToCardinality))\n",
    "    relation=[tbl.FromTable.Name,tbl.ToTable.Name,str(tbl.FromCardinality),str(tbl.ToCardinality)]\n",
    "    relationship.append(relation)\n",
    "    #print(tbl.Cardinality)\n",
    "pand=pd.DataFrame(relationship,columns=column_names)\n",
    "#print(pd)\n",
    "pand.to_csv(\".\\RelationshipDetails.csv\")"
   ]
  },
  {
   "cell_type": "code",
   "execution_count": 78,
   "metadata": {},
   "outputs": [
    {
     "name": "stdout",
     "output_type": "stream",
     "text": [
      "Table\n"
     ]
    }
   ],
   "source": [
    "Mobject=model.Tables[1].Partitions[0].Source.Expression.replace(\" \",\"\")\n",
    "startindex=Mobject.find('=')\n",
    "endindex=Mobject.find('.')\n",
    "print(Mobject[startindex+1:endindex])"
   ]
  },
  {
   "cell_type": "code",
   "execution_count": null,
   "metadata": {},
   "outputs": [],
   "source": [
    "#print(model.Tables[3].Name)\n",
    "#print(model.Tables[3].Partitions[0].Name)\n",
    "#print(model.Tables[3].Partitions[0].Source.Expression)\n",
    "#model.Tables[0].Name\n",
    "#model.Tables[0].Source.Expression\n",
    "\n",
    "Mobject=model.Tables[50].Partitions[0].Source.Expression\n",
    "print(Mobject[8:Mobject.rindex(')')+1])\n",
    "sourceNameStartIndex=Mobject.find('=')\n",
    "sourceNameendIndex=Mobject.find('.')\n",
    "serverNameStartIndex=Mobject.find('(')\n",
    "serverNameEndIndex=Mobject.find(',')\n",
    "model.Tables[1].Partitions[0].Source.Expression.replace(\" \",\"\")\n",
    "Datasource=Mobject[Mobject.find('(')+1:Mobject.find(',')]\n",
    "#print(Datasource)"
   ]
  },
  {
   "cell_type": "code",
   "execution_count": null,
   "metadata": {},
   "outputs": [],
   "source": [
    "\n"
   ]
  },
  {
   "cell_type": "code",
   "execution_count": 81,
   "metadata": {},
   "outputs": [],
   "source": [
    "#table source\n",
    "import pandas as pd\n",
    "column_names=[\"Table Name \",\"DataSource\",\"Server\"]\n",
    "Datasources=[]\n",
    "for tbl in model.Tables:\n",
    "    tbldetails=[]\n",
    "    Mexpression=tbl.Partitions[0].Source.Expression.replace(\" \",\"\")\n",
    "\n",
    "    sourceNameStartIndex=Mexpression.find('=')\n",
    "    sourceNameendIndex=Mexpression.find('.')\n",
    "\n",
    "    serverNameStartIndex=Mexpression.find('(')\n",
    "    serverNameEndIndex=Mexpression.find(',')\n",
    "\n",
    "    dataSourceName=Mexpression[sourceNameStartIndex+1:sourceNameendIndex]\n",
    "    serverName=Mexpression[serverNameStartIndex+1:serverNameEndIndex]\n",
    "\n",
    "    tbldetails=[tbl.Name,dataSourceName,serverName]\n",
    "    Datasources.append(tbldetails)\n",
    "    \n",
    "pand=pd.DataFrame(Datasources,columns=column_names)\n",
    "pd.set_option('display.max_colwidth', None)\n",
    "pand.to_csv(\".\\datasources.csv\")\n",
    "#display(pand)"
   ]
  },
  {
   "cell_type": "code",
   "execution_count": null,
   "metadata": {},
   "outputs": [],
   "source": [
    "for tbl in model.Tables:\n",
    "    #print(tbl.Partitions)\n",
    "    for p in tbl.Partitions:\n",
    "        print(\"Table Name \"+p.Name )\n",
    "        #print(\"Query Mode\"+str(p.Mode) )\n",
    "        print(\"M Expression \"+p.Source.Expression )"
   ]
  },
  {
   "cell_type": "code",
   "execution_count": 27,
   "metadata": {},
   "outputs": [],
   "source": [
    "#roles\n",
    "for tbl in model.Roles:\n",
    "    print(tbl)"
   ]
  },
  {
   "cell_type": "code",
   "execution_count": null,
   "metadata": {},
   "outputs": [],
   "source": [
    "#column\n",
    "for tbl in model.Tables:\n",
    "    #print(tbl.Partitions)\n",
    "    print(\"Table Name \"+tbl.Name )\n",
    "    print(\"columns\")\n",
    "    for p in tbl.Columns:\n",
    "        print(p.Name )"
   ]
  },
  {
   "cell_type": "code",
   "execution_count": null,
   "metadata": {},
   "outputs": [],
   "source": [
    "#measures"
   ]
  },
  {
   "cell_type": "code",
   "execution_count": null,
   "metadata": {},
   "outputs": [],
   "source": [
    "#parameters"
   ]
  },
  {
   "cell_type": "code",
   "execution_count": null,
   "metadata": {},
   "outputs": [],
   "source": [
    "#partitions\n",
    "for tbl in model.Tables:\n",
    "    #print(tbl.Partitions)\n",
    "    for p in tbl.Partitions:\n",
    "        print(p.Name )\n",
    "        \n",
    "       \n",
    "        "
   ]
  }
 ],
 "metadata": {
  "kernelspec": {
   "display_name": "Python 3",
   "language": "python",
   "name": "python3"
  },
  "language_info": {
   "codemirror_mode": {
    "name": "ipython",
    "version": 3
   },
   "file_extension": ".py",
   "mimetype": "text/x-python",
   "name": "python",
   "nbconvert_exporter": "python",
   "pygments_lexer": "ipython3",
   "version": "3.10.10"
  }
 },
 "nbformat": 4,
 "nbformat_minor": 2
}
