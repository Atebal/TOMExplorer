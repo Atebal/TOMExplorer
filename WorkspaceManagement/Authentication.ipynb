{
 "cells": [
  {
   "cell_type": "code",
   "execution_count": null,
   "metadata": {},
   "outputs": [],
   "source": [
    "from azure.identity import ClientSecretCredential, InteractiveBrowserCredential, UsernamePasswordCredential\n",
    "\n",
    "tenant_id = '1234abcd-1234-56787-ab12-abcdefg123456'\n",
    "client_id = '1234abcd-1234-56787-ab12-abcdefg123456'\n",
    "client_secret = 'abcdefg123456***abcdefg123456'\n",
    "scope = 'https://analysis.windows.net/powerbi/api/.default'\n",
    "username = 'youraccount@domain.com'\n",
    "password = 'YourMegaSafePassword738!*'  \n",
    "\n",
    "# ---------------------------------------\n",
    "# Option 1 for getting the token. If you don't want any credentials saved or the user has multi-factor configured on their account, the user can interactively authenticate\n",
    "# ---------------------------------------\n",
    "interactive_browser_credential_class = InteractiveBrowserCredential()\n",
    "access_token_class = interactive_browser_credential_class.get_token(scope)\n",
    "token_string = access_token_class.token\n",
    "\n",
    "# ---------------------------------------\n",
    "# Option 2 for getting the token. You can save the username and password and get a token without interacting\n",
    "# IMPORTANT: this won't work if the username has Multi-Factor Authentication enabled\n",
    "# ---------------------------------------\n",
    "username_password_credential_class = UsernamePasswordCredential(client_id=client_id, username=username, password=password, tenant_id=tenant_id)\n",
    "access_token_class = username_password_credential_class.get_token(scope)\n",
    "token_string = access_token_class.token\n",
    "\n",
    "# ---------------------------------------\n",
    "# Option 3 for getting the token. If authenticating via client/client_secret\n",
    "# ---------------------------------------\n",
    "client_secret_credential_class = ClientSecretCredential(tenant_id=tenant_id, client_id=client_id, client_secret=client_secret)\n",
    "access_token_class = client_secret_credential_class.get_token(scope)\n",
    "token_string = access_token_class.token"
   ]
  }
 ],
 "metadata": {
  "language_info": {
   "name": "python"
  }
 },
 "nbformat": 4,
 "nbformat_minor": 2
}
